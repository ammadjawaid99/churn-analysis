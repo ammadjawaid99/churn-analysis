{
 "cells": [
  {
   "cell_type": "code",
   "execution_count": 1,
   "id": "governmental-atmosphere",
   "metadata": {},
   "outputs": [],
   "source": [
    "import pandas as pd\n",
    "import numpy as np\n",
    "import matplotlib.pyplot as plt\n",
    "import seaborn as sns\n",
    "import scipy.stats as scipy\n",
    "from sklearn.model_selection import train_test_split"
   ]
  },
  {
   "cell_type": "code",
   "execution_count": 2,
   "id": "precious-sweet",
   "metadata": {},
   "outputs": [],
   "source": [
    "data = pd.read_csv('Telco-Customer-Churn.csv')"
   ]
  },
  {
   "cell_type": "markdown",
   "id": "formal-promotion",
   "metadata": {},
   "source": [
    "#### Printing the first few rows of the data"
   ]
  },
  {
   "cell_type": "code",
   "execution_count": 3,
   "id": "compound-malpractice",
   "metadata": {},
   "outputs": [
    {
     "data": {
      "text/html": [
       "<div>\n",
       "<style scoped>\n",
       "    .dataframe tbody tr th:only-of-type {\n",
       "        vertical-align: middle;\n",
       "    }\n",
       "\n",
       "    .dataframe tbody tr th {\n",
       "        vertical-align: top;\n",
       "    }\n",
       "\n",
       "    .dataframe thead th {\n",
       "        text-align: right;\n",
       "    }\n",
       "</style>\n",
       "<table border=\"1\" class=\"dataframe\">\n",
       "  <thead>\n",
       "    <tr style=\"text-align: right;\">\n",
       "      <th></th>\n",
       "      <th>customerID</th>\n",
       "      <th>gender</th>\n",
       "      <th>SeniorCitizen</th>\n",
       "      <th>Partner</th>\n",
       "      <th>Dependents</th>\n",
       "      <th>tenure</th>\n",
       "      <th>PhoneService</th>\n",
       "      <th>MultipleLines</th>\n",
       "      <th>InternetService</th>\n",
       "      <th>OnlineSecurity</th>\n",
       "      <th>...</th>\n",
       "      <th>DeviceProtection</th>\n",
       "      <th>TechSupport</th>\n",
       "      <th>StreamingTV</th>\n",
       "      <th>StreamingMovies</th>\n",
       "      <th>Contract</th>\n",
       "      <th>PaperlessBilling</th>\n",
       "      <th>PaymentMethod</th>\n",
       "      <th>MonthlyCharges</th>\n",
       "      <th>TotalCharges</th>\n",
       "      <th>Churn</th>\n",
       "    </tr>\n",
       "  </thead>\n",
       "  <tbody>\n",
       "    <tr>\n",
       "      <th>0</th>\n",
       "      <td>7590-VHVEG</td>\n",
       "      <td>Female</td>\n",
       "      <td>0</td>\n",
       "      <td>Yes</td>\n",
       "      <td>No</td>\n",
       "      <td>1</td>\n",
       "      <td>No</td>\n",
       "      <td>No phone service</td>\n",
       "      <td>DSL</td>\n",
       "      <td>No</td>\n",
       "      <td>...</td>\n",
       "      <td>No</td>\n",
       "      <td>No</td>\n",
       "      <td>No</td>\n",
       "      <td>No</td>\n",
       "      <td>Month-to-month</td>\n",
       "      <td>Yes</td>\n",
       "      <td>Electronic check</td>\n",
       "      <td>29.85</td>\n",
       "      <td>29.85</td>\n",
       "      <td>No</td>\n",
       "    </tr>\n",
       "    <tr>\n",
       "      <th>1</th>\n",
       "      <td>5575-GNVDE</td>\n",
       "      <td>Male</td>\n",
       "      <td>0</td>\n",
       "      <td>No</td>\n",
       "      <td>No</td>\n",
       "      <td>34</td>\n",
       "      <td>Yes</td>\n",
       "      <td>No</td>\n",
       "      <td>DSL</td>\n",
       "      <td>Yes</td>\n",
       "      <td>...</td>\n",
       "      <td>Yes</td>\n",
       "      <td>No</td>\n",
       "      <td>No</td>\n",
       "      <td>No</td>\n",
       "      <td>One year</td>\n",
       "      <td>No</td>\n",
       "      <td>Mailed check</td>\n",
       "      <td>56.95</td>\n",
       "      <td>1889.5</td>\n",
       "      <td>No</td>\n",
       "    </tr>\n",
       "    <tr>\n",
       "      <th>2</th>\n",
       "      <td>3668-QPYBK</td>\n",
       "      <td>Male</td>\n",
       "      <td>0</td>\n",
       "      <td>No</td>\n",
       "      <td>No</td>\n",
       "      <td>2</td>\n",
       "      <td>Yes</td>\n",
       "      <td>No</td>\n",
       "      <td>DSL</td>\n",
       "      <td>Yes</td>\n",
       "      <td>...</td>\n",
       "      <td>No</td>\n",
       "      <td>No</td>\n",
       "      <td>No</td>\n",
       "      <td>No</td>\n",
       "      <td>Month-to-month</td>\n",
       "      <td>Yes</td>\n",
       "      <td>Mailed check</td>\n",
       "      <td>53.85</td>\n",
       "      <td>108.15</td>\n",
       "      <td>Yes</td>\n",
       "    </tr>\n",
       "    <tr>\n",
       "      <th>3</th>\n",
       "      <td>7795-CFOCW</td>\n",
       "      <td>Male</td>\n",
       "      <td>0</td>\n",
       "      <td>No</td>\n",
       "      <td>No</td>\n",
       "      <td>45</td>\n",
       "      <td>No</td>\n",
       "      <td>No phone service</td>\n",
       "      <td>DSL</td>\n",
       "      <td>Yes</td>\n",
       "      <td>...</td>\n",
       "      <td>Yes</td>\n",
       "      <td>Yes</td>\n",
       "      <td>No</td>\n",
       "      <td>No</td>\n",
       "      <td>One year</td>\n",
       "      <td>No</td>\n",
       "      <td>Bank transfer (automatic)</td>\n",
       "      <td>42.30</td>\n",
       "      <td>1840.75</td>\n",
       "      <td>No</td>\n",
       "    </tr>\n",
       "    <tr>\n",
       "      <th>4</th>\n",
       "      <td>9237-HQITU</td>\n",
       "      <td>Female</td>\n",
       "      <td>0</td>\n",
       "      <td>No</td>\n",
       "      <td>No</td>\n",
       "      <td>2</td>\n",
       "      <td>Yes</td>\n",
       "      <td>No</td>\n",
       "      <td>Fiber optic</td>\n",
       "      <td>No</td>\n",
       "      <td>...</td>\n",
       "      <td>No</td>\n",
       "      <td>No</td>\n",
       "      <td>No</td>\n",
       "      <td>No</td>\n",
       "      <td>Month-to-month</td>\n",
       "      <td>Yes</td>\n",
       "      <td>Electronic check</td>\n",
       "      <td>70.70</td>\n",
       "      <td>151.65</td>\n",
       "      <td>Yes</td>\n",
       "    </tr>\n",
       "  </tbody>\n",
       "</table>\n",
       "<p>5 rows × 21 columns</p>\n",
       "</div>"
      ],
      "text/plain": [
       "   customerID  gender  SeniorCitizen Partner Dependents  tenure PhoneService  \\\n",
       "0  7590-VHVEG  Female              0     Yes         No       1           No   \n",
       "1  5575-GNVDE    Male              0      No         No      34          Yes   \n",
       "2  3668-QPYBK    Male              0      No         No       2          Yes   \n",
       "3  7795-CFOCW    Male              0      No         No      45           No   \n",
       "4  9237-HQITU  Female              0      No         No       2          Yes   \n",
       "\n",
       "      MultipleLines InternetService OnlineSecurity  ... DeviceProtection  \\\n",
       "0  No phone service             DSL             No  ...               No   \n",
       "1                No             DSL            Yes  ...              Yes   \n",
       "2                No             DSL            Yes  ...               No   \n",
       "3  No phone service             DSL            Yes  ...              Yes   \n",
       "4                No     Fiber optic             No  ...               No   \n",
       "\n",
       "  TechSupport StreamingTV StreamingMovies        Contract PaperlessBilling  \\\n",
       "0          No          No              No  Month-to-month              Yes   \n",
       "1          No          No              No        One year               No   \n",
       "2          No          No              No  Month-to-month              Yes   \n",
       "3         Yes          No              No        One year               No   \n",
       "4          No          No              No  Month-to-month              Yes   \n",
       "\n",
       "               PaymentMethod MonthlyCharges  TotalCharges Churn  \n",
       "0           Electronic check          29.85         29.85    No  \n",
       "1               Mailed check          56.95        1889.5    No  \n",
       "2               Mailed check          53.85        108.15   Yes  \n",
       "3  Bank transfer (automatic)          42.30       1840.75    No  \n",
       "4           Electronic check          70.70        151.65   Yes  \n",
       "\n",
       "[5 rows x 21 columns]"
      ]
     },
     "execution_count": 3,
     "metadata": {},
     "output_type": "execute_result"
    }
   ],
   "source": [
    "data.head()"
   ]
  },
  {
   "cell_type": "markdown",
   "id": "fitted-effects",
   "metadata": {},
   "source": [
    "#### Checking the data types and information about each columns"
   ]
  },
  {
   "cell_type": "code",
   "execution_count": 4,
   "id": "discrete-angola",
   "metadata": {},
   "outputs": [
    {
     "name": "stdout",
     "output_type": "stream",
     "text": [
      "<class 'pandas.core.frame.DataFrame'>\n",
      "RangeIndex: 7043 entries, 0 to 7042\n",
      "Data columns (total 21 columns):\n",
      " #   Column            Non-Null Count  Dtype  \n",
      "---  ------            --------------  -----  \n",
      " 0   customerID        7043 non-null   object \n",
      " 1   gender            7043 non-null   object \n",
      " 2   SeniorCitizen     7043 non-null   int64  \n",
      " 3   Partner           7043 non-null   object \n",
      " 4   Dependents        7043 non-null   object \n",
      " 5   tenure            7043 non-null   int64  \n",
      " 6   PhoneService      7043 non-null   object \n",
      " 7   MultipleLines     7043 non-null   object \n",
      " 8   InternetService   7043 non-null   object \n",
      " 9   OnlineSecurity    7043 non-null   object \n",
      " 10  OnlineBackup      7043 non-null   object \n",
      " 11  DeviceProtection  7043 non-null   object \n",
      " 12  TechSupport       7043 non-null   object \n",
      " 13  StreamingTV       7043 non-null   object \n",
      " 14  StreamingMovies   7043 non-null   object \n",
      " 15  Contract          7043 non-null   object \n",
      " 16  PaperlessBilling  7043 non-null   object \n",
      " 17  PaymentMethod     7043 non-null   object \n",
      " 18  MonthlyCharges    7043 non-null   float64\n",
      " 19  TotalCharges      7043 non-null   object \n",
      " 20  Churn             7043 non-null   object \n",
      "dtypes: float64(1), int64(2), object(18)\n",
      "memory usage: 1.1+ MB\n"
     ]
    }
   ],
   "source": [
    "data.info()"
   ]
  },
  {
   "cell_type": "markdown",
   "id": "hearing-liabilities",
   "metadata": {},
   "source": [
    "We can see that there are total of 7043 entries in the dataset and there is numeric and categorical data in the datasets"
   ]
  },
  {
   "cell_type": "markdown",
   "id": "satellite-viking",
   "metadata": {},
   "source": [
    "#### Check if there are any null values in the dataset"
   ]
  },
  {
   "cell_type": "code",
   "execution_count": 5,
   "id": "resistant-pendant",
   "metadata": {},
   "outputs": [
    {
     "data": {
      "text/plain": [
       "customerID          False\n",
       "gender              False\n",
       "SeniorCitizen       False\n",
       "Partner             False\n",
       "Dependents          False\n",
       "tenure              False\n",
       "PhoneService        False\n",
       "MultipleLines       False\n",
       "InternetService     False\n",
       "OnlineSecurity      False\n",
       "OnlineBackup        False\n",
       "DeviceProtection    False\n",
       "TechSupport         False\n",
       "StreamingTV         False\n",
       "StreamingMovies     False\n",
       "Contract            False\n",
       "PaperlessBilling    False\n",
       "PaymentMethod       False\n",
       "MonthlyCharges      False\n",
       "TotalCharges        False\n",
       "Churn               False\n",
       "dtype: bool"
      ]
     },
     "execution_count": 5,
     "metadata": {},
     "output_type": "execute_result"
    }
   ],
   "source": [
    "data.isna().any()"
   ]
  },
  {
   "cell_type": "markdown",
   "id": "falling-manchester",
   "metadata": {},
   "source": [
    "We can see that all the query output is False which means there is no null values in the dataset"
   ]
  },
  {
   "cell_type": "markdown",
   "id": "referenced-vanilla",
   "metadata": {},
   "source": [
    "#### Cleaning the dataset"
   ]
  },
  {
   "cell_type": "code",
   "execution_count": 6,
   "id": "conceptual-publication",
   "metadata": {},
   "outputs": [
    {
     "name": "stdout",
     "output_type": "stream",
     "text": [
      "0         29.85\n",
      "1        1889.5\n",
      "2        108.15\n",
      "3       1840.75\n",
      "4        151.65\n",
      "         ...   \n",
      "7038     1990.5\n",
      "7039     7362.9\n",
      "7040     346.45\n",
      "7041      306.6\n",
      "7042     6844.5\n",
      "Name: TotalCharges, Length: 7043, dtype: object\n"
     ]
    }
   ],
   "source": [
    "print(data['TotalCharges'])"
   ]
  },
  {
   "cell_type": "code",
   "execution_count": 7,
   "id": "maritime-destination",
   "metadata": {},
   "outputs": [
    {
     "name": "stdout",
     "output_type": "stream",
     "text": [
      "Data type of TotalCharges column in the dataset: object\n"
     ]
    }
   ],
   "source": [
    "print('Data type of TotalCharges column in the dataset:',data['TotalCharges'].dtype)"
   ]
  },
  {
   "cell_type": "markdown",
   "id": "liquid-lightning",
   "metadata": {},
   "source": [
    "We can see that the DataType of the TotalCharges column is 'object' datatype but the values in the column is of float type. Thus we clean this up and change the data type to 'float64'"
   ]
  },
  {
   "cell_type": "code",
   "execution_count": 8,
   "id": "incomplete-research",
   "metadata": {},
   "outputs": [],
   "source": [
    "data['TotalCharges'] = pd.to_numeric(data['TotalCharges'], errors='coerce')\n",
    "data.dropna(inplace = True)"
   ]
  },
  {
   "cell_type": "code",
   "execution_count": 9,
   "id": "favorite-input",
   "metadata": {},
   "outputs": [
    {
     "name": "stdout",
     "output_type": "stream",
     "text": [
      "Data type of TotalCharges column in the dataset is changed to: float64\n"
     ]
    }
   ],
   "source": [
    "print('Data type of TotalCharges column in the dataset is changed to:',data['TotalCharges'].dtype)"
   ]
  },
  {
   "cell_type": "markdown",
   "id": "behind-virtue",
   "metadata": {},
   "source": [
    "### Exploratory Data Analysis"
   ]
  },
  {
   "cell_type": "markdown",
   "id": "fallen-emerald",
   "metadata": {},
   "source": [
    "We identify the churn based on the Contracts of each customer. We will see the percentage of customers being churned based on the contractual details"
   ]
  },
  {
   "cell_type": "code",
   "execution_count": 10,
   "id": "united-operation",
   "metadata": {},
   "outputs": [],
   "source": [
    "contractChurnData = data.groupby(['Contract', 'Churn']).count()['customerID']"
   ]
  },
  {
   "cell_type": "code",
   "execution_count": 11,
   "id": "trained-bahrain",
   "metadata": {},
   "outputs": [],
   "source": [
    "monthlyContract = contractChurnData['Month-to-month']['Yes']/(contractChurnData['Month-to-month']['No'] + contractChurnData['Month-to-month']['Yes'])\n",
    "yearlyContract = contractChurnData['One year']['Yes']/(contractChurnData['One year']['No'] + contractChurnData['One year']['Yes'])\n",
    "twoYearContract = contractChurnData['Two year']['Yes']/(contractChurnData['Two year']['No'] + contractChurnData['Two year']['Yes'])"
   ]
  },
  {
   "cell_type": "code",
   "execution_count": 12,
   "id": "convinced-findings",
   "metadata": {},
   "outputs": [],
   "source": [
    "contractTypes = data['Contract'].unique().tolist()\n",
    "churnPercentage = [monthlyContract*100, yearlyContract*100, twoYearContract*100]"
   ]
  },
  {
   "cell_type": "code",
   "execution_count": 13,
   "id": "enhanced-regression",
   "metadata": {},
   "outputs": [
    {
     "data": {
      "image/png": "[encoded data removed]",
      "text/plain": [
       "<Figure size 360x432 with 1 Axes>"
      ]
     },
     "metadata": {
      "needs_background": "light"
     },
     "output_type": "display_data"
    }
   ],
   "source": [
    "fig, ax = plt.subplots(figsize=(5,6))\n",
    "\n",
    "colors = ['yellowgreen', 'gold', 'lightskyblue']\n",
    "x = np.arange(len(contractTypes))  # the label locations\n",
    "rects1 = ax.bar(x, churnPercentage, color=colors, width = 0.5)\n",
    "ax.set_ylabel('Percentage of Churn', fontsize = 13)\n",
    "ax.set_xlabel('\\nContract Types', fontsize = 13)\n",
    "ax.set_title('Churn Percentage based on Contracts')\n",
    "ax.set_xticks(x)\n",
    "ax.set_xticklabels(contractTypes)\n",
    "ax.bar_label(rects1, padding=3)\n",
    "plt.xticks(fontsize = 13)\n",
    "fig.tight_layout()\n",
    "plt.show()"
   ]
  },
  {
   "cell_type": "markdown",
   "id": "everyday-alliance",
   "metadata": {},
   "source": [
    "We have used the Churn and Contract Types within the dataset to get the churn percentage based on contractual details. First, the dataset is grouped by the 'Contract Types' and 'Churn' to get the total counts for each contract type with respective churn details. And then the percentage of Churn with 'Yes' as their values is calculated and then plotted.\n",
    "\n",
    "We can see from the bar chart that those having the contract of Month-to-Month tend to churn the highest (around 42.7%) followed by the customers with contract of One year (around 11.27%). The customers with the contracts of Two year have the least churn percentage which is around 2.84%.\n",
    "\n",
    "From this analysis, the business owner can get idea that he/she should be marketing to the customers to have contract types which are of longer terms so that the customers churn ratio is least."
   ]
  },
  {
   "cell_type": "code",
   "execution_count": 14,
   "id": "behind-tuesday",
   "metadata": {},
   "outputs": [
    {
     "data": {
      "image/png": "[encoded data removed]",
      "text/plain": [
       "<Figure size 576x360 with 1 Axes>"
      ]
     },
     "metadata": {
      "needs_background": "light"
     },
     "output_type": "display_data"
    }
   ],
   "source": [
    "data.groupby(['InternetService','Churn']).size().unstack().plot(kind = 'bar', figsize = (8,5))\n",
    "plt.xlabel('Internet Service', fontsize = 13)\n",
    "plt.ylabel('Number of Customers', fontsize = 13)\n",
    "plt.title('Churn based on Internet Service of Customers', fontsize = 14)\n",
    "plt.xticks(rotation = 0)\n",
    "plt.show()"
   ]
  },
  {
   "cell_type": "markdown",
   "id": "ambient-nutrition",
   "metadata": {},
   "source": [
    "We can see that the churn rate is higher for the customers having the Fiber Optic as their internet service."
   ]
  },
  {
   "cell_type": "code",
   "execution_count": 15,
   "id": "distant-civilization",
   "metadata": {},
   "outputs": [],
   "source": [
    "PaymentMethodChurnData = data.groupby(['PaymentMethod', 'Churn']).count()['customerID']"
   ]
  },
  {
   "cell_type": "code",
   "execution_count": 16,
   "id": "downtown-atlantic",
   "metadata": {},
   "outputs": [],
   "source": [
    "ElectronicCheck = PaymentMethodChurnData['Electronic check']['Yes']/(PaymentMethodChurnData['Electronic check']['No'] + PaymentMethodChurnData['Electronic check']['Yes'])\n",
    "MailedCheck = PaymentMethodChurnData['Mailed check']['Yes']/(PaymentMethodChurnData['Mailed check']['No'] + PaymentMethodChurnData['Mailed check']['Yes'])\n",
    "BankTransfer = PaymentMethodChurnData['Bank transfer (automatic)']['Yes']/(PaymentMethodChurnData['Bank transfer (automatic)']['No'] + PaymentMethodChurnData['Bank transfer (automatic)']['Yes'])\n",
    "CreditCard  = PaymentMethodChurnData['Credit card (automatic)']['Yes']/(PaymentMethodChurnData['Credit card (automatic)']['No'] + PaymentMethodChurnData['Credit card (automatic)']['Yes'])"
   ]
  },
  {
   "cell_type": "code",
   "execution_count": 17,
   "id": "virgin-drunk",
   "metadata": {},
   "outputs": [],
   "source": [
    "PaymentMethods = data['PaymentMethod'].unique().tolist()\n",
    "churnPercentage = [ElectronicCheck*100, MailedCheck*100, BankTransfer*100, CreditCard*100]"
   ]
  },
  {
   "cell_type": "code",
   "execution_count": 18,
   "id": "returning-gravity",
   "metadata": {},
   "outputs": [
    {
     "data": {
      "image/png": "[encoded data removed]",
      "text/plain": [
       "<Figure size 720x432 with 1 Axes>"
      ]
     },
     "metadata": {},
     "output_type": "display_data"
    }
   ],
   "source": [
    "plt.figure(figsize=[10,6])\n",
    "labels = ['Electronic Check', 'Mailed Check', 'Bank Transfer', 'Credit Card']\n",
    "colors = ['yellowgreen', 'gold', 'lightskyblue','blue']\n",
    "plt.pie(churnPercentage,autopct='%.0f%%',labels = labels,colors = colors)\n",
    "plt.title(\"Churn based on Payment Method\")\n",
    "plt.show()"
   ]
  },
  {
   "cell_type": "markdown",
   "id": "overall-aurora",
   "metadata": {},
   "source": [
    "It is clear from the figure the churn rate is high for those people who used to pay using an electronic check. This percentage is 47%. The second-biggest contribution is the mailed check, which has a 20% share. The other two ways, “bank transfer”, and “Credit Card” have 17% and 16% respectively. "
   ]
  },
  {
   "cell_type": "code",
   "execution_count": 20,
   "id": "italic-swaziland",
   "metadata": {},
   "outputs": [
    {
     "data": {
      "image/png": "[encoded data removed]",
      "text/plain": [
       "<Figure size 360x432 with 1 Axes>"
      ]
     },
     "metadata": {
      "needs_background": "light"
     },
     "output_type": "display_data"
    }
   ],
   "source": [
    "data.boxplot(column = 'tenure', by = 'Churn', figsize = (5,6))\n",
    "plt.title('Tenure statistics grouped by Churn', fontsize = 14)\n",
    "plt.xlabel('Churn', fontsize = 13)\n",
    "plt.ylabel('Tenure', fontsize = 13)\n",
    "plt.suptitle('')\n",
    "plt.show()"
   ]
  },
  {
   "cell_type": "markdown",
   "id": "governmental-council",
   "metadata": {},
   "source": [
    "We have used the Tenure parameter in the dataset to see if the Churn depends upon the number of months the customer has stayed with the company. We can see that the stretch of the box plot with Churn equal to No is greater compared to the stretch of box plot with Churn equal to Yes. It means that the customers who have are kept attached to the business for long time, no matter if they purchase anything or not, are less likely to churn. From this, we can say that the business owners should create marketing campaigns which would keep audience intact for longer period of time."
   ]
  },
  {
   "cell_type": "markdown",
   "id": "successful-universal",
   "metadata": {},
   "source": [
    "### Data Processing"
   ]
  },
  {
   "cell_type": "markdown",
   "id": "healthy-angel",
   "metadata": {},
   "source": [
    "We will now process our data and use the one hot encoding technique to convert our categorical data into separated columns. This will help us to train our model as training categorical data without any pre-processing is not possible."
   ]
  },
  {
   "cell_type": "code",
   "execution_count": 21,
   "id": "comic-finder",
   "metadata": {},
   "outputs": [],
   "source": [
    "categoricalData = pd.get_dummies(data.drop(['customerID'],axis = 1)).drop(['Churn_No'], axis=1)\n",
    "categoricalData.rename(columns = {'Churn_Yes': 'Churn'}, inplace = True)"
   ]
  },
  {
   "cell_type": "code",
   "execution_count": 22,
   "id": "compact-accident",
   "metadata": {},
   "outputs": [
    {
     "data": {
      "text/html": [
       "<div>\n",
       "<style scoped>\n",
       "    .dataframe tbody tr th:only-of-type {\n",
       "        vertical-align: middle;\n",
       "    }\n",
       "\n",
       "    .dataframe tbody tr th {\n",
       "        vertical-align: top;\n",
       "    }\n",
       "\n",
       "    .dataframe thead th {\n",
       "        text-align: right;\n",
       "    }\n",
       "</style>\n",
       "<table border=\"1\" class=\"dataframe\">\n",
       "  <thead>\n",
       "    <tr style=\"text-align: right;\">\n",
       "      <th></th>\n",
       "      <th>SeniorCitizen</th>\n",
       "      <th>tenure</th>\n",
       "      <th>MonthlyCharges</th>\n",
       "      <th>TotalCharges</th>\n",
       "      <th>gender_Female</th>\n",
       "      <th>gender_Male</th>\n",
       "      <th>Partner_No</th>\n",
       "      <th>Partner_Yes</th>\n",
       "      <th>Dependents_No</th>\n",
       "      <th>Dependents_Yes</th>\n",
       "      <th>...</th>\n",
       "      <th>Contract_Month-to-month</th>\n",
       "      <th>Contract_One year</th>\n",
       "      <th>Contract_Two year</th>\n",
       "      <th>PaperlessBilling_No</th>\n",
       "      <th>PaperlessBilling_Yes</th>\n",
       "      <th>PaymentMethod_Bank transfer (automatic)</th>\n",
       "      <th>PaymentMethod_Credit card (automatic)</th>\n",
       "      <th>PaymentMethod_Electronic check</th>\n",
       "      <th>PaymentMethod_Mailed check</th>\n",
       "      <th>Churn</th>\n",
       "    </tr>\n",
       "  </thead>\n",
       "  <tbody>\n",
       "    <tr>\n",
       "      <th>0</th>\n",
       "      <td>0</td>\n",
       "      <td>1</td>\n",
       "      <td>29.85</td>\n",
       "      <td>29.85</td>\n",
       "      <td>1</td>\n",
       "      <td>0</td>\n",
       "      <td>0</td>\n",
       "      <td>1</td>\n",
       "      <td>1</td>\n",
       "      <td>0</td>\n",
       "      <td>...</td>\n",
       "      <td>1</td>\n",
       "      <td>0</td>\n",
       "      <td>0</td>\n",
       "      <td>0</td>\n",
       "      <td>1</td>\n",
       "      <td>0</td>\n",
       "      <td>0</td>\n",
       "      <td>1</td>\n",
       "      <td>0</td>\n",
       "      <td>0</td>\n",
       "    </tr>\n",
       "    <tr>\n",
       "      <th>1</th>\n",
       "      <td>0</td>\n",
       "      <td>34</td>\n",
       "      <td>56.95</td>\n",
       "      <td>1889.50</td>\n",
       "      <td>0</td>\n",
       "      <td>1</td>\n",
       "      <td>1</td>\n",
       "      <td>0</td>\n",
       "      <td>1</td>\n",
       "      <td>0</td>\n",
       "      <td>...</td>\n",
       "      <td>0</td>\n",
       "      <td>1</td>\n",
       "      <td>0</td>\n",
       "      <td>1</td>\n",
       "      <td>0</td>\n",
       "      <td>0</td>\n",
       "      <td>0</td>\n",
       "      <td>0</td>\n",
       "      <td>1</td>\n",
       "      <td>0</td>\n",
       "    </tr>\n",
       "    <tr>\n",
       "      <th>2</th>\n",
       "      <td>0</td>\n",
       "      <td>2</td>\n",
       "      <td>53.85</td>\n",
       "      <td>108.15</td>\n",
       "      <td>0</td>\n",
       "      <td>1</td>\n",
       "      <td>1</td>\n",
       "      <td>0</td>\n",
       "      <td>1</td>\n",
       "      <td>0</td>\n",
       "      <td>...</td>\n",
       "      <td>1</td>\n",
       "      <td>0</td>\n",
       "      <td>0</td>\n",
       "      <td>0</td>\n",
       "      <td>1</td>\n",
       "      <td>0</td>\n",
       "      <td>0</td>\n",
       "      <td>0</td>\n",
       "      <td>1</td>\n",
       "      <td>1</td>\n",
       "    </tr>\n",
       "    <tr>\n",
       "      <th>3</th>\n",
       "      <td>0</td>\n",
       "      <td>45</td>\n",
       "      <td>42.30</td>\n",
       "      <td>1840.75</td>\n",
       "      <td>0</td>\n",
       "      <td>1</td>\n",
       "      <td>1</td>\n",
       "      <td>0</td>\n",
       "      <td>1</td>\n",
       "      <td>0</td>\n",
       "      <td>...</td>\n",
       "      <td>0</td>\n",
       "      <td>1</td>\n",
       "      <td>0</td>\n",
       "      <td>1</td>\n",
       "      <td>0</td>\n",
       "      <td>1</td>\n",
       "      <td>0</td>\n",
       "      <td>0</td>\n",
       "      <td>0</td>\n",
       "      <td>0</td>\n",
       "    </tr>\n",
       "    <tr>\n",
       "      <th>4</th>\n",
       "      <td>0</td>\n",
       "      <td>2</td>\n",
       "      <td>70.70</td>\n",
       "      <td>151.65</td>\n",
       "      <td>1</td>\n",
       "      <td>0</td>\n",
       "      <td>1</td>\n",
       "      <td>0</td>\n",
       "      <td>1</td>\n",
       "      <td>0</td>\n",
       "      <td>...</td>\n",
       "      <td>1</td>\n",
       "      <td>0</td>\n",
       "      <td>0</td>\n",
       "      <td>0</td>\n",
       "      <td>1</td>\n",
       "      <td>0</td>\n",
       "      <td>0</td>\n",
       "      <td>1</td>\n",
       "      <td>0</td>\n",
       "      <td>1</td>\n",
       "    </tr>\n",
       "    <tr>\n",
       "      <th>...</th>\n",
       "      <td>...</td>\n",
       "      <td>...</td>\n",
       "      <td>...</td>\n",
       "      <td>...</td>\n",
       "      <td>...</td>\n",
       "      <td>...</td>\n",
       "      <td>...</td>\n",
       "      <td>...</td>\n",
       "      <td>...</td>\n",
       "      <td>...</td>\n",
       "      <td>...</td>\n",
       "      <td>...</td>\n",
       "      <td>...</td>\n",
       "      <td>...</td>\n",
       "      <td>...</td>\n",
       "      <td>...</td>\n",
       "      <td>...</td>\n",
       "      <td>...</td>\n",
       "      <td>...</td>\n",
       "      <td>...</td>\n",
       "      <td>...</td>\n",
       "    </tr>\n",
       "    <tr>\n",
       "      <th>7038</th>\n",
       "      <td>0</td>\n",
       "      <td>24</td>\n",
       "      <td>84.80</td>\n",
       "      <td>1990.50</td>\n",
       "      <td>0</td>\n",
       "      <td>1</td>\n",
       "      <td>0</td>\n",
       "      <td>1</td>\n",
       "      <td>0</td>\n",
       "      <td>1</td>\n",
       "      <td>...</td>\n",
       "      <td>0</td>\n",
       "      <td>1</td>\n",
       "      <td>0</td>\n",
       "      <td>0</td>\n",
       "      <td>1</td>\n",
       "      <td>0</td>\n",
       "      <td>0</td>\n",
       "      <td>0</td>\n",
       "      <td>1</td>\n",
       "      <td>0</td>\n",
       "    </tr>\n",
       "    <tr>\n",
       "      <th>7039</th>\n",
       "      <td>0</td>\n",
       "      <td>72</td>\n",
       "      <td>103.20</td>\n",
       "      <td>7362.90</td>\n",
       "      <td>1</td>\n",
       "      <td>0</td>\n",
       "      <td>0</td>\n",
       "      <td>1</td>\n",
       "      <td>0</td>\n",
       "      <td>1</td>\n",
       "      <td>...</td>\n",
       "      <td>0</td>\n",
       "      <td>1</td>\n",
       "      <td>0</td>\n",
       "      <td>0</td>\n",
       "      <td>1</td>\n",
       "      <td>0</td>\n",
       "      <td>1</td>\n",
       "      <td>0</td>\n",
       "      <td>0</td>\n",
       "      <td>0</td>\n",
       "    </tr>\n",
       "    <tr>\n",
       "      <th>7040</th>\n",
       "      <td>0</td>\n",
       "      <td>11</td>\n",
       "      <td>29.60</td>\n",
       "      <td>346.45</td>\n",
       "      <td>1</td>\n",
       "      <td>0</td>\n",
       "      <td>0</td>\n",
       "      <td>1</td>\n",
       "      <td>0</td>\n",
       "      <td>1</td>\n",
       "      <td>...</td>\n",
       "      <td>1</td>\n",
       "      <td>0</td>\n",
       "      <td>0</td>\n",
       "      <td>0</td>\n",
       "      <td>1</td>\n",
       "      <td>0</td>\n",
       "      <td>0</td>\n",
       "      <td>1</td>\n",
       "      <td>0</td>\n",
       "      <td>0</td>\n",
       "    </tr>\n",
       "    <tr>\n",
       "      <th>7041</th>\n",
       "      <td>1</td>\n",
       "      <td>4</td>\n",
       "      <td>74.40</td>\n",
       "      <td>306.60</td>\n",
       "      <td>0</td>\n",
       "      <td>1</td>\n",
       "      <td>0</td>\n",
       "      <td>1</td>\n",
       "      <td>1</td>\n",
       "      <td>0</td>\n",
       "      <td>...</td>\n",
       "      <td>1</td>\n",
       "      <td>0</td>\n",
       "      <td>0</td>\n",
       "      <td>0</td>\n",
       "      <td>1</td>\n",
       "      <td>0</td>\n",
       "      <td>0</td>\n",
       "      <td>0</td>\n",
       "      <td>1</td>\n",
       "      <td>1</td>\n",
       "    </tr>\n",
       "    <tr>\n",
       "      <th>7042</th>\n",
       "      <td>0</td>\n",
       "      <td>66</td>\n",
       "      <td>105.65</td>\n",
       "      <td>6844.50</td>\n",
       "      <td>0</td>\n",
       "      <td>1</td>\n",
       "      <td>1</td>\n",
       "      <td>0</td>\n",
       "      <td>1</td>\n",
       "      <td>0</td>\n",
       "      <td>...</td>\n",
       "      <td>0</td>\n",
       "      <td>0</td>\n",
       "      <td>1</td>\n",
       "      <td>0</td>\n",
       "      <td>1</td>\n",
       "      <td>1</td>\n",
       "      <td>0</td>\n",
       "      <td>0</td>\n",
       "      <td>0</td>\n",
       "      <td>0</td>\n",
       "    </tr>\n",
       "  </tbody>\n",
       "</table>\n",
       "<p>7032 rows × 46 columns</p>\n",
       "</div>"
      ],
      "text/plain": [
       "      SeniorCitizen  tenure  MonthlyCharges  TotalCharges  gender_Female  \\\n",
       "0                 0       1           29.85         29.85              1   \n",
       "1                 0      34           56.95       1889.50              0   \n",
       "2                 0       2           53.85        108.15              0   \n",
       "3                 0      45           42.30       1840.75              0   \n",
       "4                 0       2           70.70        151.65              1   \n",
       "...             ...     ...             ...           ...            ...   \n",
       "7038              0      24           84.80       1990.50              0   \n",
       "7039              0      72          103.20       7362.90              1   \n",
       "7040              0      11           29.60        346.45              1   \n",
       "7041              1       4           74.40        306.60              0   \n",
       "7042              0      66          105.65       6844.50              0   \n",
       "\n",
       "      gender_Male  Partner_No  Partner_Yes  Dependents_No  Dependents_Yes  \\\n",
       "0               0           0            1              1               0   \n",
       "1               1           1            0              1               0   \n",
       "2               1           1            0              1               0   \n",
       "3               1           1            0              1               0   \n",
       "4               0           1            0              1               0   \n",
       "...           ...         ...          ...            ...             ...   \n",
       "7038            1           0            1              0               1   \n",
       "7039            0           0            1              0               1   \n",
       "7040            0           0            1              0               1   \n",
       "7041            1           0            1              1               0   \n",
       "7042            1           1            0              1               0   \n",
       "\n",
       "      ...  Contract_Month-to-month  Contract_One year  Contract_Two year  \\\n",
       "0     ...                        1                  0                  0   \n",
       "1     ...                        0                  1                  0   \n",
       "2     ...                        1                  0                  0   \n",
       "3     ...                        0                  1                  0   \n",
       "4     ...                        1                  0                  0   \n",
       "...   ...                      ...                ...                ...   \n",
       "7038  ...                        0                  1                  0   \n",
       "7039  ...                        0                  1                  0   \n",
       "7040  ...                        1                  0                  0   \n",
       "7041  ...                        1                  0                  0   \n",
       "7042  ...                        0                  0                  1   \n",
       "\n",
       "      PaperlessBilling_No  PaperlessBilling_Yes  \\\n",
       "0                       0                     1   \n",
       "1                       1                     0   \n",
       "2                       0                     1   \n",
       "3                       1                     0   \n",
       "4                       0                     1   \n",
       "...                   ...                   ...   \n",
       "7038                    0                     1   \n",
       "7039                    0                     1   \n",
       "7040                    0                     1   \n",
       "7041                    0                     1   \n",
       "7042                    0                     1   \n",
       "\n",
       "      PaymentMethod_Bank transfer (automatic)  \\\n",
       "0                                           0   \n",
       "1                                           0   \n",
       "2                                           0   \n",
       "3                                           1   \n",
       "4                                           0   \n",
       "...                                       ...   \n",
       "7038                                        0   \n",
       "7039                                        0   \n",
       "7040                                        0   \n",
       "7041                                        0   \n",
       "7042                                        1   \n",
       "\n",
       "      PaymentMethod_Credit card (automatic)  PaymentMethod_Electronic check  \\\n",
       "0                                         0                               1   \n",
       "1                                         0                               0   \n",
       "2                                         0                               0   \n",
       "3                                         0                               0   \n",
       "4                                         0                               1   \n",
       "...                                     ...                             ...   \n",
       "7038                                      0                               0   \n",
       "7039                                      1                               0   \n",
       "7040                                      0                               1   \n",
       "7041                                      0                               0   \n",
       "7042                                      0                               0   \n",
       "\n",
       "      PaymentMethod_Mailed check  Churn  \n",
       "0                              0      0  \n",
       "1                              1      0  \n",
       "2                              1      1  \n",
       "3                              0      0  \n",
       "4                              0      1  \n",
       "...                          ...    ...  \n",
       "7038                           1      0  \n",
       "7039                           0      0  \n",
       "7040                           0      0  \n",
       "7041                           1      1  \n",
       "7042                           0      0  \n",
       "\n",
       "[7032 rows x 46 columns]"
      ]
     },
     "execution_count": 22,
     "metadata": {},
     "output_type": "execute_result"
    }
   ],
   "source": [
    "categoricalData"
   ]
  },
  {
   "cell_type": "code",
   "execution_count": 23,
   "id": "immediate-socket",
   "metadata": {},
   "outputs": [
    {
     "name": "stdout",
     "output_type": "stream",
     "text": [
      "The data with Churn equal to \"0\" is 5163\n",
      "The data with Churn equal to \"1\" is 1869\n"
     ]
    }
   ],
   "source": [
    "print('The data with Churn equal to \"0\" is', categoricalData['Churn'].value_counts()[0])\n",
    "print('The data with Churn equal to \"1\" is', categoricalData['Churn'].value_counts()[1])"
   ]
  },
  {
   "cell_type": "markdown",
   "id": "logical-delhi",
   "metadata": {},
   "source": [
    "For making any prediction model, the data should be balanced so that there is no overfitting or underfitting. We can see from our above analysis that there is a huge class imbalance in the dataset as the length of data with Churn (1) is 1869 and the length of data with Churn (0) is 5163. \n",
    "\n",
    "###### Note: Here 0 means the customers with Churn equal to No, and 1 means the customers with Churn equal to Yes\n",
    "\n",
    "Therefore, we balance the distribution by making the length of labels equal."
   ]
  },
  {
   "cell_type": "code",
   "execution_count": 24,
   "id": "frequent-spine",
   "metadata": {},
   "outputs": [],
   "source": [
    "shuffledData = categoricalData.sample(frac=1)\n",
    "ChurnLength = categoricalData['Churn'].value_counts()[1]\n",
    "\n",
    "balancedData = pd.concat([categoricalData.loc[categoricalData['Churn'] == 1], \n",
    "                          categoricalData.loc[categoricalData['Churn'] == 0][:ChurnLength]])\n",
    "\n",
    "categoricalData = balancedData.sample(frac = 1, random_state = 0)"
   ]
  },
  {
   "cell_type": "code",
   "execution_count": 25,
   "id": "expected-garlic",
   "metadata": {},
   "outputs": [
    {
     "name": "stdout",
     "output_type": "stream",
     "text": [
      "The data with Churn equal to \"0\" is 1869\n",
      "The data with Churn equal to \"1\" is 1869\n"
     ]
    }
   ],
   "source": [
    "print('The data with Churn equal to \"0\" is', categoricalData['Churn'].value_counts()[0])\n",
    "print('The data with Churn equal to \"1\" is', categoricalData['Churn'].value_counts()[1])"
   ]
  },
  {
   "cell_type": "markdown",
   "id": "ordered-family",
   "metadata": {},
   "source": [
    "### Model Training"
   ]
  },
  {
   "cell_type": "code",
   "execution_count": 26,
   "id": "western-notion",
   "metadata": {},
   "outputs": [],
   "source": [
    "features = categoricalData.drop('Churn', axis = 1)\n",
    "label = categoricalData['Churn']"
   ]
  },
  {
   "cell_type": "markdown",
   "id": "known-journey",
   "metadata": {},
   "source": [
    "Splitting the dataset into training and test dataset to build a machine learning model for the predictive analysis"
   ]
  },
  {
   "cell_type": "code",
   "execution_count": 27,
   "id": "selected-promise",
   "metadata": {},
   "outputs": [],
   "source": [
    "X_train, X_test, y_train, y_test = train_test_split(features, label, test_size=0.3, random_state=0)"
   ]
  },
  {
   "cell_type": "code",
   "execution_count": 28,
   "id": "numerical-yemen",
   "metadata": {},
   "outputs": [
    {
     "name": "stdout",
     "output_type": "stream",
     "text": [
      "The shape of training features is: (2616, 45)\n",
      "The shape of testing features is: (1122, 45)\n"
     ]
    }
   ],
   "source": [
    "print('The shape of training features is:', X_train.shape)\n",
    "print('The shape of testing features is:', X_test.shape)"
   ]
  },
  {
   "cell_type": "code",
   "execution_count": 29,
   "id": "certain-fireplace",
   "metadata": {},
   "outputs": [],
   "source": [
    "from sklearn.linear_model import LogisticRegression\n",
    "from sklearn.tree import DecisionTreeClassifier\n",
    "from sklearn.neighbors import KNeighborsClassifier\n",
    "from sklearn import svm\n",
    "from sklearn.neural_network import MLPClassifier\n",
    "from sklearn.ensemble import RandomForestClassifier\n",
    "\n",
    "from sklearn import metrics\n",
    "from sklearn.metrics import f1_score"
   ]
  },
  {
   "cell_type": "markdown",
   "id": "orange-affiliation",
   "metadata": {},
   "source": [
    "#### Machine Learning Model 1 : Logistic Regression"
   ]
  },
  {
   "cell_type": "code",
   "execution_count": 30,
   "id": "medieval-republic",
   "metadata": {},
   "outputs": [
    {
     "name": "stdout",
     "output_type": "stream",
     "text": [
      "Overall accuracy of Logistic Regression is: 75.4 %\n"
     ]
    }
   ],
   "source": [
    "logisticRegression = LogisticRegression(solver='lbfgs', max_iter=400)\n",
    "\n",
    "logisticRegression.fit(X_train, y_train)\n",
    "y_pred = logisticRegression.predict(X_test)\n",
    "\n",
    "print('Overall accuracy of Logistic Regression is:', round(metrics.accuracy_score(y_test, y_pred)*100,2), '%')"
   ]
  },
  {
   "cell_type": "markdown",
   "id": "literary-pepper",
   "metadata": {},
   "source": [
    "#### Machine Learning Model 2 : SVM"
   ]
  },
  {
   "cell_type": "code",
   "execution_count": 31,
   "id": "adolescent-culture",
   "metadata": {},
   "outputs": [
    {
     "name": "stdout",
     "output_type": "stream",
     "text": [
      "Overall accuracy of Support Vector Machine model is: 62.12 %\n"
     ]
    }
   ],
   "source": [
    "SVM = svm.SVC()\n",
    "\n",
    "SVM.fit(X_train, y_train)\n",
    "y_pred = SVM.predict(X_test)\n",
    "\n",
    "print('Overall accuracy of Support Vector Machine model is:', round(metrics.accuracy_score(y_test, y_pred)*100,2), '%')"
   ]
  },
  {
   "cell_type": "markdown",
   "id": "expired-tsunami",
   "metadata": {},
   "source": [
    "#### Machine Learning Model 3 : Decision Trees"
   ]
  },
  {
   "cell_type": "code",
   "execution_count": 32,
   "id": "convertible-removal",
   "metadata": {},
   "outputs": [
    {
     "name": "stdout",
     "output_type": "stream",
     "text": [
      "Overall accuracy of Support Vector Machine model is: 73.08 %\n"
     ]
    }
   ],
   "source": [
    "decisionTrees = DecisionTreeClassifier(max_depth = 2)\n",
    "\n",
    "decisionTrees.fit(X_train, y_train)\n",
    "y_pred = decisionTrees.predict(X_test)\n",
    "\n",
    "print('Overall accuracy of Support Vector Machine model is:', round(metrics.accuracy_score(y_test, y_pred)*100,2), '%')"
   ]
  },
  {
   "cell_type": "markdown",
   "id": "offensive-anthony",
   "metadata": {},
   "source": [
    "We can see that the Logistic regression outperforms the other machine learning models for the training on our dataset. This model prediction is done to help the business owners to predict the Churn of their customers. If the owner wants to predict in future and the company has sufficient data of its customers then it can detect if the customer will churn or not in the future. This predictive analysis plays an important role in the industries to help the businesses grow."
   ]
  },
  {
   "cell_type": "code",
   "execution_count": null,
   "id": "derived-alfred",
   "metadata": {},
   "outputs": [],
   "source": []
  }
 ],
 "metadata": {
  "kernelspec": {
   "display_name": "Python 3",
   "language": "python",
   "name": "python3"
  },
  "language_info": {
   "codemirror_mode": {
    "name": "ipython",
    "version": 3
   },
   "file_extension": ".py",
   "mimetype": "text/x-python",
   "name": "python",
   "nbconvert_exporter": "python",
   "pygments_lexer": "ipython3",
   "version": "3.7.10"
  }
 },
 "nbformat": 4,
 "nbformat_minor": 5
}
